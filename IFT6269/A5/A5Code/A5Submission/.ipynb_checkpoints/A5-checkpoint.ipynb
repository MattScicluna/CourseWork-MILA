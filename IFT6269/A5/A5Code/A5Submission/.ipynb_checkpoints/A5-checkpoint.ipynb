{
 "cells": [
  {
   "cell_type": "code",
   "execution_count": 1,
   "metadata": {
    "collapsed": true
   },
   "outputs": [],
   "source": [
    "import numpy as np\n",
    "import matplotlib.pyplot as plt"
   ]
  },
  {
   "cell_type": "code",
   "execution_count": 2,
   "metadata": {
    "collapsed": true
   },
   "outputs": [],
   "source": [
    "#  Set seed for reproducibility\n",
    "np.random.seed(2017)"
   ]
  },
  {
   "cell_type": "code",
   "execution_count": 3,
   "metadata": {
    "collapsed": true
   },
   "outputs": [],
   "source": [
    "#  Set up array for easy neighbour computation\n",
    "i_array = np.array(range(1,50)).reshape([7, 7])\n",
    "ising_array = np.insert(i_array, 0, i_array[6], axis=0)\n",
    "ising_array = np.insert(ising_array, 8, i_array[0], axis=0)\n",
    "ising_array = np.insert(ising_array, 7, ising_array[:, 0], axis=1)\n",
    "ising_array = np.insert(ising_array, 0, ising_array[:, 6], axis=1)\n",
    "\n",
    "#  Uses array to find neighbours easily\n",
    "def find_neighbour(node):\n",
    "    x, y = np.where(node == ising_array[1:-1, 1:-1])\n",
    "    x, y = x[0]+1, y[0]+1\n",
    "    neighbours = [ising_array[x - 1, y], ising_array[x + 1, y],\n",
    "                  ising_array[x, y - 1], ising_array[x, y + 1]]\n",
    "    return neighbours"
   ]
  },
  {
   "cell_type": "code",
   "execution_count": 4,
   "metadata": {
    "collapsed": true
   },
   "outputs": [],
   "source": [
    "#  Define Ising model class\n",
    "class ising_model():\n",
    "\n",
    "    def __init__(self, graph, states):\n",
    "        self.graph = graph\n",
    "        self.states = states\n",
    "    \n",
    "    #  samples from conditial density of Ising model\n",
    "    def sample_posterior(self, node):\n",
    "        logit = graph[node]['vertex_weight'] + \\\n",
    "                np.sum([self.states[v]*graph[node]['edges'][v] for v in graph[node]['edges'].keys()])\n",
    "        prob = 1 / (1 + np.exp(-logit))\n",
    "        return np.random.binomial(1, prob)\n",
    "\n",
    "    #  Runs gibbs_sampling with burn in\n",
    "    def gibbs_sampling(self, num_samples, burn_in):\n",
    "        samples = np.zeros(shape=[num_samples, len(graph)])\n",
    "        print(\"burning in ...\")\n",
    "        for t in range(burn_in):\n",
    "            #  sample each state seperately\n",
    "            for state in self.states.keys():\n",
    "                self.states[state] = self.sample_posterior(state)\n",
    "\n",
    "        print(\"finished burning in, collecting samples ...\")\n",
    "        for t in range(num_samples):\n",
    "            #  sample each state seperately\n",
    "            for state in self.states.keys():\n",
    "                self.states[state] = self.sample_posterior(state)\n",
    "            #  Add sample to collection\n",
    "            for state in self.states.keys():\n",
    "                samples[t, state-1] = self.states[state]\n",
    "            if t+1 % 500 == 0:\n",
    "                print(\"Finished epoch {}\".format(t+1))\n",
    "\n",
    "        #  compute moments\n",
    "        return np.mean(samples, axis=0).reshape([7, 7])\n",
    "    \n",
    "    #  Updates nodes for Variational Mean Field\n",
    "    def update_node(self, node):\n",
    "        logit = graph[node]['vertex_weight'] + \\\n",
    "                np.sum([self.states[v]*graph[node]['edges'][v] for v in graph[node]['edges'].keys()])\n",
    "        tau = 1 / (1 + np.exp(-logit))\n",
    "        return tau\n",
    "\n",
    "    #  Computes expression defined in homework\n",
    "    def compute_loss(self):\n",
    "        loss = 0\n",
    "        for state in self.states:\n",
    "            loss += self.states[state]*self.graph[state]['vertex_weight']\n",
    "            loss += 0.5*np.sum([self.graph[state]['edges'][neighbour]*self.states[state]*self.states[neighbour]\n",
    "                                for neighbour in self.graph[state]['edges']])\n",
    "            loss += self.states[state]*np.log(self.states[state]) + (1-self.states[state])*np.log(1-self.states[state])\n",
    "        return -loss\n",
    "\n",
    "    #  Runs variational mean field\n",
    "    def var_mean_field(self, stopping):\n",
    "        dist = np.inf\n",
    "        losses = list()\n",
    "        iter = 1\n",
    "        #  Stop when distance between updates < stopping critereon\n",
    "        while dist > stopping:\n",
    "            dist = 0\n",
    "            for state in self.states.keys():\n",
    "                previous_state = self.states[state]\n",
    "                self.states[state] = self.update_node(state)\n",
    "                dist += abs(self.states[state]-previous_state)\n",
    "            losses.append(self.compute_loss())\n",
    "            print('Loss at iteration {}: {}'.format(iter, losses[-1]))\n",
    "            iter += 1\n",
    "        return np.array(list(self.states.values())).reshape([7,7]), losses"
   ]
  },
  {
   "cell_type": "markdown",
   "metadata": {},
   "source": [
    "# Q2 - Gibbs Sampling"
   ]
  },
  {
   "cell_type": "code",
   "execution_count": 5,
   "metadata": {
    "collapsed": true
   },
   "outputs": [],
   "source": [
    "#  initial states randomly chosen\n",
    "init_states = dict()\n",
    "for i in range(1, 50):\n",
    "    init_states[i] = np.random.binomial(1, 0.5)"
   ]
  },
  {
   "cell_type": "code",
   "execution_count": 6,
   "metadata": {
    "collapsed": true
   },
   "outputs": [],
   "source": [
    "# Initialize network as per homework\n",
    "graph = dict()\n",
    "for i in range(1, 50):\n",
    "    node = dict()\n",
    "    node['vertex_weight'] = (-1) ** i\n",
    "    node['edges'] = dict()\n",
    "    neighbours = find_neighbour(i)\n",
    "    for j in neighbours:\n",
    "        # if (j, i) not in edges_weight.keys():\n",
    "        #    edges_weight[(i, j)] = 0.5\n",
    "        node['edges'][j] = 0.5\n",
    "    graph[i] = node"
   ]
  },
  {
   "cell_type": "code",
   "execution_count": 7,
   "metadata": {
    "collapsed": false
   },
   "outputs": [
    {
     "name": "stdout",
     "output_type": "stream",
     "text": [
      "burning in ...\n",
      "finished burning in, collecting samples ...\n",
      "burning in ...\n",
      "finished burning in, collecting samples ...\n",
      "burning in ...\n",
      "finished burning in, collecting samples ...\n",
      "burning in ...\n",
      "finished burning in, collecting samples ...\n",
      "burning in ...\n",
      "finished burning in, collecting samples ...\n",
      "burning in ...\n",
      "finished burning in, collecting samples ...\n",
      "burning in ...\n",
      "finished burning in, collecting samples ...\n",
      "burning in ...\n",
      "finished burning in, collecting samples ...\n",
      "burning in ...\n",
      "finished burning in, collecting samples ...\n",
      "burning in ...\n",
      "finished burning in, collecting samples ...\n"
     ]
    }
   ],
   "source": [
    "#  Q1 - Collect moments\n",
    "moments = np.ndarray(shape=[10, 7, 7])\n",
    "for i in range(10):\n",
    "    i_mod = ising_model(graph=graph, states=init_states)\n",
    "    moments[i, :, :] = i_mod.gibbs_sampling(num_samples=5000, burn_in=1000)"
   ]
  },
  {
   "cell_type": "code",
   "execution_count": 8,
   "metadata": {
    "collapsed": false
   },
   "outputs": [
    {
     "data": {
      "text/plain": [
       "array([[ 0.6372,  0.9086,  0.6672,  0.9142,  0.6638,  0.9092,  0.635 ],\n",
       "       [ 0.9126,  0.6888,  0.9046,  0.7   ,  0.9106,  0.6894,  0.9148],\n",
       "       [ 0.6748,  0.9038,  0.6806,  0.9062,  0.6778,  0.901 ,  0.6604],\n",
       "       [ 0.914 ,  0.6862,  0.9026,  0.691 ,  0.8994,  0.69  ,  0.9144],\n",
       "       [ 0.6626,  0.9038,  0.6878,  0.9062,  0.682 ,  0.9018,  0.6644],\n",
       "       [ 0.9092,  0.6862,  0.906 ,  0.6876,  0.9012,  0.6884,  0.9108],\n",
       "       [ 0.6322,  0.908 ,  0.6636,  0.9188,  0.6592,  0.9126,  0.638 ]])"
      ]
     },
     "execution_count": 8,
     "metadata": {},
     "output_type": "execute_result"
    }
   ],
   "source": [
    "#  7x7 matrix of estimated moments\n",
    "moments[0]"
   ]
  },
  {
   "cell_type": "code",
   "execution_count": 9,
   "metadata": {
    "collapsed": false
   },
   "outputs": [
    {
     "data": {
      "text/plain": [
       "array([[ 0.0059,  0.004 ,  0.0056,  0.0018,  0.0078,  0.0043,  0.004 ],\n",
       "       [ 0.0035,  0.0075,  0.005 ,  0.0042,  0.0046,  0.0042,  0.0042],\n",
       "       [ 0.0093,  0.0028,  0.0036,  0.0051,  0.0065,  0.0032,  0.0074],\n",
       "       [ 0.0029,  0.006 ,  0.005 ,  0.0065,  0.0047,  0.0045,  0.0026],\n",
       "       [ 0.0047,  0.0046,  0.0092,  0.0047,  0.006 ,  0.0036,  0.0059],\n",
       "       [ 0.0036,  0.0071,  0.0047,  0.0051,  0.0037,  0.006 ,  0.0022],\n",
       "       [ 0.0062,  0.0049,  0.0084,  0.0027,  0.0057,  0.0037,  0.0087]])"
      ]
     },
     "execution_count": 9,
     "metadata": {},
     "output_type": "execute_result"
    }
   ],
   "source": [
    "#  Get Empirical Sample Deviations of moments\n",
    "np.round(np.sqrt(moments.var(0)), 4)"
   ]
  },
  {
   "cell_type": "markdown",
   "metadata": {},
   "source": [
    "#  Q2 - Variational Inference"
   ]
  },
  {
   "cell_type": "code",
   "execution_count": 10,
   "metadata": {
    "collapsed": true
   },
   "outputs": [],
   "source": [
    "#  initial states randomly chosen\n",
    "init_states = dict()\n",
    "for i in range(1, 50):\n",
    "    init_states[i] = np.random.uniform()"
   ]
  },
  {
   "cell_type": "code",
   "execution_count": 11,
   "metadata": {
    "collapsed": false
   },
   "outputs": [
    {
     "name": "stdout",
     "output_type": "stream",
     "text": [
      "Loss at iteration 1: -6.5497568052543835\n",
      "Loss at iteration 2: -11.852125633955243\n",
      "Loss at iteration 3: -13.139731467808522\n",
      "Loss at iteration 4: -13.28158438994113\n",
      "Loss at iteration 5: -13.303543998133149\n",
      "Loss at iteration 6: -13.30606586783018\n",
      "Loss at iteration 7: -13.306417423974466\n"
     ]
    }
   ],
   "source": [
    "#  Compute Variational Estimate\n",
    "var_ising = ising_model(graph=graph, states=init_states)\n",
    "var_moments, losses = var_ising.var_mean_field(stopping=0.001)"
   ]
  },
  {
   "cell_type": "code",
   "execution_count": 12,
   "metadata": {
    "collapsed": false
   },
   "outputs": [
    {
     "data": {
      "image/png": "[encoded data removed]",
      "text/plain": [
       "<matplotlib.figure.Figure at 0x7fecba81dba8>"
      ]
     },
     "metadata": {},
     "output_type": "display_data"
    }
   ],
   "source": [
    "#KL(q||p) − log(Z_p) per epoch plot\n",
    "\n",
    "plt.figure()\n",
    "plt.title(r'$KL(q||p) - log(Z_p)$ per Epoch')\n",
    "plt.plot(losses, color='red')\n",
    "plt.xlabel('Epoch')\n",
    "plt.ylabel(r'$KL(q||p) - log(Z_p)$')\n",
    "plt.savefig('../per_epoch')\n",
    "plt.show()"
   ]
  },
  {
   "cell_type": "code",
   "execution_count": 13,
   "metadata": {
    "collapsed": false
   },
   "outputs": [
    {
     "data": {
      "text/plain": [
       "0.0077084224535921408"
      ]
     },
     "execution_count": 13,
     "metadata": {},
     "output_type": "execute_result"
    }
   ],
   "source": [
    "#  Difference between Mean Field estimated moments and Gibbs estimates\n",
    "abs(var_moments-moments.mean(0)).sum()/49"
   ]
  }
 ],
 "metadata": {
  "anaconda-cloud": {},
  "kernelspec": {
   "display_name": "Python [conda env:KerasEnv]",
   "language": "python",
   "name": "conda-env-KerasEnv-py"
  },
  "language_info": {
   "codemirror_mode": {
    "name": "ipython",
    "version": 3
   },
   "file_extension": ".py",
   "mimetype": "text/x-python",
   "name": "python",
   "nbconvert_exporter": "python",
   "pygments_lexer": "ipython3",
   "version": "3.5.2"
  }
 },
 "nbformat": 4,
 "nbformat_minor": 1
}
