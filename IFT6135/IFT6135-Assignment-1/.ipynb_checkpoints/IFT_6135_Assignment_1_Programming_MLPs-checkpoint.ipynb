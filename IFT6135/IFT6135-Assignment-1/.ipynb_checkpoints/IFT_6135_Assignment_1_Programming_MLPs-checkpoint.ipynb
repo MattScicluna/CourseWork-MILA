{
 "cells": [
  {
   "cell_type": "markdown",
   "metadata": {
    "colab_type": "text",
    "id": "5nY1E8Z3IyRx"
   },
   "source": [
    "# Problem #1\n",
    "\n",
    "In this problem, we will build a Multilayer Perceptron (MLP) and train it on the MNIST hand- written digit dataset 1.\n",
    "Building the Model Consider an MLP with two hidden layers where the number of hidden units as $h^1$ and $h^2$. For the MNIST dataset, the number of features of the input data $h^0$ is 784. The output of the neural network is parameterized by a softmax of $h^3 = 10$ classes.\n",
    "\n",
    "1. Build an MLP and choose the values of $h^1$ and $h^2$ such that the total number of parameters (including biases) falls within the range of $[0.5M, 1.0M]$.\n",
    "2. Train the MLP using the probability loss (*cross entropy*) as training criterion. We minimize this criterion to optimize the model parameters using *stochastic gradient descent*.\n",
    "\n",
    "In the following sub-questions, please specify the model architecture (number of hidden units per layer, and the total number of parameters), the nonlinearity chosen as neuron activation, learning rate, mini-batch size.\n",
    "\n",
    "**Initialization** In this sub-question, we consider different initial values for the weight parameters. Set the biases to be zeros, and consider the following settings for the weight parameters:\n",
    "\n",
    "* Zero: all weight parameters are initialized to be zeros (like biases).\n",
    "* Normal: sample the initial weight values from a standard Normal distribution: $w_{i,j} ∼ \\mathcal{N}(w_{i,j}; 0,1)$\n",
    "* Glorot: sample the initial weight values from a uniform distribution; $w_{i, j}^l ∼ \\mathcal{U}(w_{i, j}^l ; −d^l, d^l)$ where $d^l = \\sqrt{\\frac{6}{h^{l−1} +h^l}}$\n",
    "\n",
    "1. Train the model for 10 epochs 2 using the initialization methods above and record the average loss measured on the training data at the end of each epoch (10 values for each setup).\n",
    "2. Compare the three setups by plotting the losses against the training time (epoch) and comment on the result.\n",
    "\n",
    "**Learning Curves** From now on, use the Glorot initialization method. In this subquestion and\n",
    "the next one, we consider different scenarios and model assumptions to explore the concept of\n",
    "generalization.\n",
    "\n",
    "1. Find out a combination of hyper-parameters (model architecture, learning rate, nonlinearity, etc.) such that the average accuracy rate on the validation set $(r^{(valid)})$ is at least 97%.\n",
    "2. Plot a figure of learning curves with the x-axis being the training time and the y-axis being the accuracy. The plot should include the accuracy measured on both training and validation sets at the end of each epoch.\n",
    "3. Train the model for 100 epochs.\n",
    "4. Train the model for 100 epochs, this time double model capacity (in terms of number of parameters).\n",
    "5. Comment on the result. (Hint: explain it using the bias-variance trade-off.)\n",
    "\n",
    "**Training Set Size, Generalization Gap, and Standard Error.** Choose the best model and training specification you have designed so far in terms of validation accuracy.\n",
    "1. Randomly draw subsets of the training data with $N_a = aN$ samples, where $N = 50000$ is the number of samples of the full training set of MNIST, for $a \\in \\{0.01, 0.02, 0.05, 0.1, 1.0\\}$. For each subset, train a model for 100 epochs.\n",
    "  \n",
    "  a. Keep track of accuracy measured on the i. training set, ii. validation set, iii. test set at the end of each epoch\n",
    "  \n",
    "  b. Report the generalization gap defined as the difference between the training accuracy and the test accuracy $(G_a = r^{(train)} − r^{(test)})$ of the model with best validation performance\n",
    "  \n",
    "  c. Repeat this procedure 3 times and you should end up with a Table of size 5 × 5 (5 trials\n",
    "and 5 training set sizes).\n",
    "2. Repeat this procedure 3 times and you should end up with a Table of size 5 × 5 (5 trials and\n",
    "5 training set sizes).\n",
    "3. Report the average generalization gap for each subset size and its corresponding standard\n",
    "error. Recall that the standard error of a statistic is the standard deviation of its sampling\n",
    "distribution.\n",
    "4. Comment on the result."
   ]
  },
  {
   "cell_type": "code",
   "execution_count": 0,
   "metadata": {
    "colab": {
     "autoexec": {
      "startup": false,
      "wait_interval": 0
     }
    },
    "colab_type": "code",
    "collapsed": true,
    "id": "TJkwV44XiriW"
   },
   "outputs": [],
   "source": [
    "# http://pytorch.org/\n",
    "from os import path\n",
    "from wheel.pep425tags import get_abbr_impl, get_impl_ver, get_abi_tag\n",
    "platform = '{}{}-{}'.format(get_abbr_impl(), get_impl_ver(), get_abi_tag())\n",
    "\n",
    "accelerator = 'cu80' if path.exists('/opt/bin/nvidia-smi') else 'cpu'\n",
    "\n",
    "!pip install -q http://download.pytorch.org/whl/{accelerator}/torch-0.3.0.post4-{platform}-linux_x86_64.whl torchvision\n",
    "import torch"
   ]
  },
  {
   "cell_type": "markdown",
   "metadata": {
    "colab_type": "text",
    "id": "4Qlt6QzEf1dw"
   },
   "source": [
    "# Question 1.1"
   ]
  },
  {
   "cell_type": "code",
   "execution_count": 10,
   "metadata": {
    "colab": {
     "autoexec": {
      "startup": false,
      "wait_interval": 0
     },
     "base_uri": "https://localhost:8080/",
     "height": 611,
     "output_extras": [
      {
       "item_id": 1
      },
      {
       "item_id": 2
      },
      {
       "item_id": 5
      },
      {
       "item_id": 6
      }
     ]
    },
    "colab_type": "code",
    "collapsed": false,
    "executionInfo": {
     "elapsed": 12051,
     "status": "ok",
     "timestamp": 1519095369805,
     "user": {
      "displayName": "Breandan Considine",
      "photoUrl": "//lh3.googleusercontent.com/-v5D3F5vV4qg/AAAAAAAAAAI/AAAAAAAAB-0/cGc4-tIe0NQ/s50-c-k-no/photo.jpg",
      "userId": "112134772872346499317"
     },
     "user_tz": 300
    },
    "id": "Y12I1kudMfiv",
    "outputId": "ac4b3ac0-6578-42f4-bd76-051f59d96559"
   },
   "outputs": [
    {
     "name": "stdout",
     "output_type": "stream",
     "text": [
      "MLP(\n",
      "  (hidden_1): Linear(in_features=784, out_features=512)\n",
      "  (hidden_2): Linear(in_features=512, out_features=400)\n",
      "  (output): Linear(in_features=400, out_features=10)\n",
      ")\n",
      "batch size:40  learning rate:0.01  momentum:0.8 \n",
      "epoch = 0\n"
     ]
    },
    {
     "name": "stderr",
     "output_type": "stream",
     "text": [
      "/usr/local/lib/python3.6/dist-packages/ipykernel_launcher.py:31: UserWarning: Implicit dimension choice for log_softmax has been deprecated. Change the call to include dim=X as an argument.\n"
     ]
    },
    {
     "name": "stdout",
     "output_type": "stream",
     "text": [
      "epoch = 0\n",
      "epoch = 0\n",
      "[19.825438   1.3139706]\n",
      "[nan nan]\n",
      "[157.73668 163.15129]\n"
     ]
    },
    {
     "data": {
      "image/png": "[encoded data removed]",
      "text/plain": [
       "<matplotlib.figure.Figure at 0x7fbc7d7ceb70>"
      ]
     },
     "metadata": {
      "tags": []
     },
     "output_type": "display_data"
    }
   ],
   "source": [
    "import numpy as np\n",
    "import matplotlib.pyplot as plt\n",
    "import gzip\n",
    "import pickle\n",
    "from enum import Enum, auto\n",
    "\n",
    "import torch\n",
    "import torch.nn.functional as F\n",
    "from torch.autograd import Variable\n",
    "\n",
    "np.random.seed(0)\n",
    "\n",
    "\n",
    "class Init(Enum):\n",
    "    Glorot = auto()\n",
    "    Normal = auto()\n",
    "    Zero = auto()\n",
    "\n",
    "\n",
    "# MLP model\n",
    "class MLP(torch.nn.Module):\n",
    "    \"\"\"build the MLP network model\"\"\"\n",
    "\n",
    "    def __init__(self, n_feature, n_hidden_1, n_hidden_2, n_output):\n",
    "        super(MLP, self).__init__()\n",
    "        self.hidden_1 = torch.nn.Linear(n_feature, n_hidden_1)\n",
    "        self.hidden_2 = torch.nn.Linear(n_hidden_1, n_hidden_2)\n",
    "        self.output = torch.nn.Linear(n_hidden_2, n_output)\n",
    "\n",
    "    def forward(self, x):\n",
    "        x = F.relu(self.hidden_1(x))\n",
    "        x = F.relu(self.hidden_2(x))\n",
    "        x = F.log_softmax(x)\n",
    "        x = self.output(x)\n",
    "        return x\n",
    "\n",
    "\n",
    "def get_balanced_batches(dataset_length, shuffle, batch_size: int = 50):\n",
    "    \"\"\"Create indices for batches balanced that allows to\n",
    "       split the dataset into balanced batches (maximum size difference 1),\n",
    "       shuffle the indices if needed.\n",
    "    \"\"\"\n",
    "    assert batch_size is not None\n",
    "    n_batches = int(np.round(dataset_length / float(batch_size)))\n",
    "\n",
    "    min_batch_size = dataset_length // n_batches\n",
    "    n_batches_with_extra_trial = dataset_length % n_batches\n",
    "    assert n_batches_with_extra_trial < n_batches\n",
    "    all_inds = np.array(range(dataset_length))\n",
    "    if shuffle:\n",
    "        np.random.shuffle(all_inds)\n",
    "    i_start_trial = 0\n",
    "    i_stop_trial = 0\n",
    "    batches = []\n",
    "    for i_batch in range(n_batches):\n",
    "        i_stop_trial += min_batch_size\n",
    "        if i_batch < n_batches_with_extra_trial:\n",
    "            i_stop_trial += 1\n",
    "        batch_inds = all_inds[range(i_start_trial, i_stop_trial)]\n",
    "        batches.append(batch_inds)\n",
    "        i_start_trial = i_stop_trial\n",
    "    assert i_start_trial == dataset_length\n",
    "    return batches\n",
    "\n",
    "\n",
    "def train_mlp(mlp, train_data, train_labels, test_data, init: Init = Init.Glorot,\n",
    "              batch_size: int = 100, epoches: int = 100, learning_rate=0.5, momentum=0.1):\n",
    "    \"\"\"train the dataset folliowing the  \"\"\"\n",
    "    train_num = len(train_data)\n",
    "    if torch.cuda.is_available():\n",
    "        mlp = mlp.cuda()\n",
    "\n",
    "    # init bias\n",
    "    torch.nn.init.constant(mlp.hidden_1.bias, 0)\n",
    "    torch.nn.init.constant(mlp.hidden_2.bias, 0)\n",
    "    torch.nn.init.constant(mlp.output.bias, 0)\n",
    "\n",
    "    # init weight to zero\n",
    "    if init == Init.Zero:\n",
    "\n",
    "        torch.nn.init.constant(mlp.hidden_1.weight, 0)\n",
    "        torch.nn.init.constant(mlp.hidden_2.weight, 0)\n",
    "        torch.nn.init.constant(mlp.output.weight, 0)\n",
    "    # init weight to normal\n",
    "    elif init == Init.Normal:\n",
    "\n",
    "        torch.nn.init.normal(mlp.hidden_1.weight, mean=0, std=1)\n",
    "        torch.nn.init.normal(mlp.hidden_2.weight, mean=0, std=1)\n",
    "        torch.nn.init.normal(mlp.output.weight, mean=0, std=1)\n",
    "    # init weight to Glorot\n",
    "    else:\n",
    "        torch.nn.init.xavier_uniform(mlp.hidden_1.weight, gain=1)\n",
    "        torch.nn.init.xavier_uniform(mlp.hidden_2.weight, gain=1)\n",
    "        torch.nn.init.xavier_uniform(mlp.output.weight, gain=1)\n",
    "\n",
    "    optimizer = torch.optim.SGD(mlp.parameters(), lr=learning_rate, momentum=momentum)\n",
    "    loss_func = torch.nn.CrossEntropyLoss()\n",
    "    losses = torch.zeros(epoches, 3)\n",
    "    losses = Variable(losses)\n",
    "\n",
    "    for epoch in range(epoches):\n",
    "        mlp.train()\n",
    "        if epoch % 10 == 0:\n",
    "          print('epoch = %d' % epoch)\n",
    "        shuffle = True\n",
    "        batches_indexes = get_balanced_batches(train_num, shuffle, batch_size)\n",
    "\n",
    "        for i_batch, example_inds in enumerate(batches_indexes):\n",
    "            inputs = torch.from_numpy(train_data[example_inds])\n",
    "            labels = torch.from_numpy(train_labels[example_inds])\n",
    "            if torch.cuda.is_available():\n",
    "                inputs, labels = inputs.cuda(), labels.cuda()\n",
    "            inputs, labels = Variable(inputs), Variable(labels)\n",
    "            # forward propagation\n",
    "            prediction = mlp(inputs)\n",
    "            loss = loss_func(prediction, labels)\n",
    "\n",
    "            losses[epoch, 0] = losses[epoch, 0] + loss.data[0]\n",
    "            # train the model by backpropation\n",
    "            optimizer.zero_grad()\n",
    "            loss.backward()\n",
    "            optimizer.step()\n",
    "\n",
    "        # average_loss of each epoch\n",
    "        losses[epoch, 1] = losses[epoch, 0] / (train_num / batch_size)\n",
    "        losses[epoch, 2] = epoch\n",
    "    return losses\n",
    "\n",
    "\n",
    "# hyper parameter\n",
    "batch_size = 40\n",
    "learning_rate = 0.01\n",
    "momentum = 0.8\n",
    "epoches = 2\n",
    "\n",
    "from sklearn.datasets import fetch_mldata\n",
    "mnist = fetch_mldata('MNIST original')\n",
    "\n",
    "X, y = (mnist.data.astype(np.float32) / 255), mnist.target\n",
    "permutation = np.random.permutation(len(X))\n",
    "X = X[permutation]\n",
    "y = y[permutation]\n",
    "train_set = (X[:50000], y[:50000].astype(np.int64))\n",
    "val_set = (X[50000:60000], y[50000:60000].astype(np.int64))\n",
    "test_set = (X[60000:], y[60000:].astype(np.int64))\n",
    "\n",
    "train_data = train_set[0].reshape(-1, 28 * 28)\n",
    "train_labels = train_set[1]\n",
    "\n",
    "test_data = test_set[0].reshape(-1, 28 * 28)\n",
    "test_labels = test_set[1]\n",
    "\n",
    "validation_data = val_set[0].reshape(-1, 28 * 28)\n",
    "validation_labels = val_set[1]\n",
    "\n",
    "# set the structure of network\n",
    "mlp = MLP(28 * 28, 512, 400, 10)\n",
    "print(mlp)\n",
    "print(\"batch size:{0}  learning rate:{1}  momentum:{2} \".format(batch_size, learning_rate, momentum))\n",
    "\n",
    "# train the model by three initialization strategies and get the loss\n",
    "list_losses = []\n",
    "for init in Init:\n",
    "    losses1 = train_mlp(mlp, train_data, train_labels, test_data, init,\n",
    "                        batch_size, epoches, learning_rate, momentum)\n",
    "    list_losses.append(losses1)\n",
    "\n",
    "# plot the losses\n",
    "# Glorot\n",
    "plt.plot(list_losses[0].data.numpy()[:, 2], list_losses[0].data.numpy()[:, 1], 'r', lw=2, label=\"Glorot\")\n",
    "print(list_losses[0].data.numpy()[:, 1])\n",
    "# Normal\n",
    "plt.plot(list_losses[1].data.numpy()[:, 2], list_losses[1].data.numpy()[:, 1], 'g', lw=2, label=\"Normal\")\n",
    "print(list_losses[1].data.numpy()[:, 1])\n",
    "#\n",
    "plt.plot(list_losses[2].data.numpy()[:, 2], list_losses[2].data.numpy()[:, 1], 'b', lw=2, label=\"Zeros\")\n",
    "print(list_losses[2].data.numpy()[:, 1])\n",
    "plt.show()"
   ]
  },
  {
   "cell_type": "markdown",
   "metadata": {
    "colab_type": "text",
    "id": "4I-OprV2hFe8"
   },
   "source": [
    "As can been seen above, Glorot initialization appears to train most quickly, leading to the lowest loss under a fixed number of training epochs."
   ]
  },
  {
   "cell_type": "markdown",
   "metadata": {
    "colab_type": "text",
    "id": "BrHHtZtmf7Zu"
   },
   "source": [
    "# Question 1.2"
   ]
  },
  {
   "cell_type": "code",
   "execution_count": 11,
   "metadata": {
    "colab": {
     "autoexec": {
      "startup": false,
      "wait_interval": 0
     },
     "base_uri": "https://localhost:8080/",
     "height": 596,
     "output_extras": [
      {
       "item_id": 1
      },
      {
       "item_id": 2
      },
      {
       "item_id": 3
      },
      {
       "item_id": 4
      }
     ]
    },
    "colab_type": "code",
    "collapsed": false,
    "executionInfo": {
     "elapsed": 21982,
     "status": "ok",
     "timestamp": 1519095391857,
     "user": {
      "displayName": "Breandan Considine",
      "photoUrl": "//lh3.googleusercontent.com/-v5D3F5vV4qg/AAAAAAAAAAI/AAAAAAAAB-0/cGc4-tIe0NQ/s50-c-k-no/photo.jpg",
      "userId": "112134772872346499317"
     },
     "user_tz": 300
    },
    "id": "J9S5JVBQtWjy",
    "outputId": "b693643d-0737-42b0-b917-b9a5f1277454"
   },
   "outputs": [
    {
     "name": "stdout",
     "output_type": "stream",
     "text": [
      "MLP(\n",
      "  (hidden_1): Linear(in_features=784, out_features=512)\n",
      "  (hidden_2): Linear(in_features=512, out_features=400)\n",
      "  (output): Linear(in_features=400, out_features=10)\n",
      ")\n",
      "batch size:40  learning rate:0.01  momentum:0.8 \n",
      "epoch = 0\n"
     ]
    },
    {
     "name": "stderr",
     "output_type": "stream",
     "text": [
      "/usr/local/lib/python3.6/dist-packages/ipykernel_launcher.py:27: UserWarning: Implicit dimension choice for log_softmax has been deprecated. Change the call to include dim=X as an argument.\n"
     ]
    },
    {
     "name": "stdout",
     "output_type": "stream",
     "text": [
      "[0.75736    0.9264     0.94666    0.95892    0.96318    0.97112\n",
      " 0.97562003 0.97662    0.97958    0.98212004]\n",
      "[0.9081     0.9249     0.94740003 0.9378     0.9628     0.95\n",
      " 0.9688     0.96930003 0.9599     0.9699    ]\n"
     ]
    },
    {
     "data": {
      "image/png": "[encoded data removed]",
      "text/plain": [
       "<matplotlib.figure.Figure at 0x7fbc7d7ceda0>"
      ]
     },
     "metadata": {
      "tags": []
     },
     "output_type": "display_data"
    }
   ],
   "source": [
    "import numpy as np\n",
    "import matplotlib.pyplot as plt\n",
    "import gzip\n",
    "import pickle\n",
    "from enum import Enum, auto\n",
    "\n",
    "import torch\n",
    "import torch.nn.functional as F\n",
    "from torch.autograd import Variable\n",
    "\n",
    "class Init(Enum):\n",
    "    Glorot = auto()\n",
    "    Normal = auto()\n",
    "    Zero = auto()\n",
    "\n",
    "# MLP\n",
    "class MLP(torch.nn.Module):\n",
    "    def __init__(self, n_feature, n_hidden_1, n_hidden_2, n_output):\n",
    "        super(MLP, self).__init__()\n",
    "        self.hidden_1 = torch.nn.Linear(n_feature, n_hidden_1)\n",
    "        self.hidden_2 = torch.nn.Linear(n_hidden_1, n_hidden_2)\n",
    "        self.output = torch.nn.Linear(n_hidden_2, n_output)\n",
    "\n",
    "    def forward(self, x):\n",
    "        x = F.relu(self.hidden_1(x))\n",
    "        x = F.relu(self.hidden_2(x))\n",
    "        x = F.log_softmax(x)\n",
    "        x = self.output(x)\n",
    "        return x\n",
    "\n",
    "def get_balanced_batches(dataset_length, shuffle, batch_size: int = 50):\n",
    "    \"\"\"Create indices for batches balanced in size (batches will have maximum size difference of 1).\n",
    "    Supply either batch size or number of batches. Resulting batches\n",
    "    will not have the given batch size but rather the next largest batch size\n",
    "    that allows to split the set into balanced batches (maximum size difference 1).\n",
    "    Parameters\n",
    "    ----------\n",
    "    dataset_length : int\n",
    "        Size of set. \n",
    "    shuffle :\n",
    "        Whether to shuffle indices before splitting set.\n",
    "    batch_size :\n",
    "         (Default value = None)\n",
    "    Returns\n",
    "    -------\n",
    "    \"\"\"\n",
    "    assert batch_size is not None\n",
    "    n_batches = int(np.round(dataset_length / float(batch_size)))\n",
    "\n",
    "    min_batch_size = dataset_length // n_batches\n",
    "    n_batches_with_extra_trial = dataset_length % n_batches\n",
    "    assert n_batches_with_extra_trial < n_batches\n",
    "    all_inds = np.array(range(dataset_length))\n",
    "    if shuffle:\n",
    "        np.random.shuffle(all_inds)\n",
    "    i_start_trial = 0\n",
    "    i_stop_trial = 0\n",
    "    batches = []\n",
    "    for i_batch in range(n_batches):\n",
    "        i_stop_trial += min_batch_size\n",
    "        if i_batch < n_batches_with_extra_trial:\n",
    "            i_stop_trial += 1\n",
    "        batch_inds = all_inds[range(i_start_trial, i_stop_trial)]\n",
    "        batches.append(batch_inds)\n",
    "        i_start_trial = i_stop_trial\n",
    "    assert i_start_trial == dataset_length\n",
    "    return batches\n",
    "\n",
    "def train_mlp(mlp, train_data, train_labels, test_data, test_labels, init: Init = Init.Glorot,\n",
    "              batch_size: int = 100, epoches: int = 100, learning_rate=0.5, momentum=0.1):\n",
    "    train_num = len(train_data)\n",
    "    test_num = len(test_data)\n",
    "\n",
    "    if torch.cuda.is_available():\n",
    "        mlp = mlp.cuda()\n",
    "\n",
    "    # init bias\n",
    "    torch.nn.init.constant(mlp.hidden_1.bias, 0)\n",
    "    torch.nn.init.constant(mlp.hidden_2.bias, 0)\n",
    "    torch.nn.init.constant(mlp.output.bias, 0)\n",
    "\n",
    "    # init weight to zero\n",
    "    if init == Init.Zero:\n",
    "\n",
    "        torch.nn.init.constant(mlp.hidden_1.weight, 0)\n",
    "        torch.nn.init.constant(mlp.hidden_2.weight, 0)\n",
    "        torch.nn.init.constant(mlp.output.weight, 0)\n",
    "    # init weight to normal\n",
    "    elif init == Init.Normal:\n",
    "\n",
    "        torch.nn.init.normal(mlp.hidden_1.weight, mean=0, std=1)\n",
    "        torch.nn.init.normal(mlp.hidden_2.weight, mean=0, std=1)\n",
    "        torch.nn.init.normal(mlp.output.weight, mean=0, std=1)\n",
    "    # init weight to Glorot\n",
    "    else:\n",
    "\n",
    "        torch.nn.init.xavier_uniform(mlp.hidden_1.weight, gain=1)\n",
    "        torch.nn.init.xavier_uniform(mlp.hidden_2.weight, gain=1)\n",
    "        torch.nn.init.xavier_uniform(mlp.output.weight, gain=1)\n",
    "\n",
    "    optimizer = torch.optim.SGD(mlp.parameters(), lr=learning_rate, momentum=momentum)\n",
    "    loss_func = torch.nn.CrossEntropyLoss()\n",
    "\n",
    "    accuracy = torch.zeros(epoches, 3)\n",
    "    accuracy = Variable(accuracy)\n",
    "\n",
    "    for epoch in range(epoches):\n",
    "        mlp.train()\n",
    "        if epoch % 10 == 0:\n",
    "          print('epoch = %d' % epoch)\n",
    "        shuffle = True\n",
    "        batches_indexes = get_balanced_batches(train_num, shuffle, batch_size)\n",
    "        train_accuarcy_list = []\n",
    "\n",
    "        for i_batch, example_inds in enumerate(batches_indexes):\n",
    "\n",
    "            inputs = torch.from_numpy(train_data[example_inds])\n",
    "            labels = torch.from_numpy(train_labels[example_inds])\n",
    "            if torch.cuda.is_available():\n",
    "                inputs, labels = inputs.cuda(), labels.cuda()\n",
    "            inputs, labels = Variable(inputs), Variable(labels)\n",
    "\n",
    "            # forward\n",
    "            prediction = mlp(inputs)\n",
    "            loss = loss_func(prediction, labels)\n",
    "\n",
    "            train_accuarcy_list.append(AccuarcyCompute(prediction, labels))\n",
    "            optimizer.zero_grad()\n",
    "            loss.backward()\n",
    "            optimizer.step()\n",
    "        # accuracy rate on training set of each epoch\n",
    "        accuracy[epoch, 0] = (sum(train_accuarcy_list) / len(train_accuarcy_list))\n",
    "\n",
    "        shuffle = False\n",
    "        batches_indexes = get_balanced_batches(test_num, shuffle, batch_size)\n",
    "        test_accuarcy_list = []\n",
    "        for i_batch, example_inds in enumerate(batches_indexes):\n",
    "            inputs = torch.from_numpy(test_data[example_inds])\n",
    "            labels = torch.from_numpy(test_labels[example_inds])\n",
    "            if torch.cuda.is_available():\n",
    "                inputs, labels = inputs.cuda(), labels.cuda()\n",
    "            inputs, labels = Variable(inputs), Variable(labels)\n",
    "\n",
    "            prediction = mlp(inputs)\n",
    "            test_accuarcy_list.append(AccuarcyCompute(prediction, labels))\n",
    "        # accuracy rate on testset of each epoch\n",
    "        accuracy[epoch, 1] = (sum(test_accuarcy_list) / len(test_accuarcy_list))\n",
    "        accuracy[epoch, 2] = epoch\n",
    "    return accuracy\n",
    "\n",
    "\n",
    "def AccuarcyCompute(pred, label):\n",
    "    pred = pred.cpu().data.numpy()\n",
    "    label = label.cpu().data.numpy()\n",
    "    #     print(pred.shape(),label.shape())\n",
    "    test_np = (np.argmax(pred, 1) == label)\n",
    "    test_np = np.float32(test_np)\n",
    "    return np.mean(test_np)\n",
    "\n",
    "\n",
    "# loading local dataset\n",
    "from sklearn.datasets import fetch_mldata\n",
    "mnist = fetch_mldata('MNIST original')\n",
    "\n",
    "X, y = (mnist.data.astype(np.float32) / 255), mnist.target\n",
    "permutation = np.random.permutation(len(X))\n",
    "X = X[permutation]\n",
    "y = y[permutation]\n",
    "train_set = (X[:50000], y[:50000].astype(np.int64))\n",
    "val_set = (X[50000:60000], y[50000:60000].astype(np.int64))\n",
    "test_set = (X[60000:], y[60000:].astype(np.int64))\n",
    "\n",
    "train_data = train_set[0].reshape(-1, 28 * 28)\n",
    "train_labels = train_set[1]\n",
    "\n",
    "test_data = test_set[0].reshape(-1, 28 * 28)\n",
    "test_labels = test_set[1]\n",
    "\n",
    "validation_data = val_set[0].reshape(-1, 28 * 28)\n",
    "validation_labels = val_set[1]\n",
    "\n",
    "# hyper parameter\n",
    "batch_size = 40\n",
    "learning_rate = 0.01\n",
    "momentum = 0.8\n",
    "epoches = 10  # for the question 3/4, replacement this value by 100\n",
    "init = Init.Glorot\n",
    "\n",
    "# set the structure of network\n",
    "mlp = MLP(28 * 28, 512, 400, 10)\n",
    "print(mlp)\n",
    "print(\"batch size:{0}  learning rate:{1}  momentum:{2} \".format(batch_size, learning_rate, momentum))\n",
    "# train the model and evaluate the accuracy with the validation set\n",
    "accuracy = train_mlp(mlp, train_data, train_labels, validation_data, validation_labels, init,\n",
    "                     batch_size, epoches, learning_rate, momentum)\n",
    "\n",
    "# plot the accuracy rate for both training set and validation set\n",
    "plt.plot(accuracy.data.numpy()[:, 2], accuracy.data.numpy()[:, 0], 'r', lw=2, label=\"training accuracy\")\n",
    "print(accuracy.data.numpy()[:, 0])\n",
    "plt.plot(accuracy.data.numpy()[:, 2], accuracy.data.numpy()[:, 1], 'g', lw=2, label=\"test accuracy\")\n",
    "print(accuracy.data.numpy()[:, 1])\n",
    "plt.show()"
   ]
  },
  {
   "cell_type": "markdown",
   "metadata": {
    "colab_type": "text",
    "id": "Q8jXtiNtf-BE"
   },
   "source": [
    "# Question 1.3"
   ]
  },
  {
   "cell_type": "code",
   "execution_count": 0,
   "metadata": {
    "colab": {
     "autoexec": {
      "startup": false,
      "wait_interval": 0
     },
     "base_uri": "https://localhost:8080/",
     "height": 834,
     "output_extras": [
      {
       "item_id": 1
      },
      {
       "item_id": 2
      },
      {
       "item_id": 46
      }
     ]
    },
    "colab_type": "code",
    "collapsed": false,
    "id": "Kpmeu42UIvO1",
    "outputId": "e76d508e-3d74-42a0-f88b-dd3af30a4b54"
   },
   "outputs": [
    {
     "name": "stdout",
     "output_type": "stream",
     "text": [
      "MLP(\n",
      "  (hidden_1): Linear(in_features=784, out_features=512)\n",
      "  (hidden_2): Linear(in_features=512, out_features=400)\n",
      "  (output): Linear(in_features=400, out_features=10)\n",
      ")\n",
      "epoch = 0\n"
     ]
    },
    {
     "name": "stderr",
     "output_type": "stream",
     "text": [
      "/usr/local/lib/python3.6/dist-packages/ipykernel_launcher.py:30: UserWarning: Implicit dimension choice for log_softmax has been deprecated. Change the call to include dim=X as an argument.\n"
     ]
    },
    {
     "name": "stdout",
     "output_type": "stream",
     "text": [
      "epoch = 10\n",
      "epoch = 20\n",
      "epoch = 30\n",
      "epoch = 40\n",
      "epoch = 50\n",
      "epoch = 60\n",
      "epoch = 70\n",
      "epoch = 80\n",
      "epoch = 90\n",
      "epoch = 0\n",
      "epoch = 10\n",
      "epoch = 20\n",
      "epoch = 30\n",
      "epoch = 40\n",
      "epoch = 50\n",
      "epoch = 60\n",
      "epoch = 70\n",
      "epoch = 80\n",
      "epoch = 90\n",
      "epoch = 0\n",
      "epoch = 10\n",
      "epoch = 20\n",
      "epoch = 30\n",
      "epoch = 40\n",
      "epoch = 50\n",
      "epoch = 60\n",
      "epoch = 70\n",
      "epoch = 80\n",
      "epoch = 90\n",
      "epoch = 0\n",
      "epoch = 10\n",
      "epoch = 20\n",
      "epoch = 30\n",
      "epoch = 40\n",
      "epoch = 50\n",
      "epoch = 60\n",
      "epoch = 70\n",
      "epoch = 80\n",
      "epoch = 90\n",
      "epoch = 0\n",
      "epoch = 10\n",
      "epoch = 20\n",
      "epoch = 30\n",
      "epoch = 40\n"
     ]
    }
   ],
   "source": [
    "import numpy as np\n",
    "import matplotlib.pyplot as plt\n",
    "import gzip\n",
    "import pickle\n",
    "from enum import Enum, auto\n",
    "\n",
    "import torch\n",
    "import torch.nn.functional as F\n",
    "from torch.autograd import Variable\n",
    "\n",
    "\n",
    "class Init(Enum):\n",
    "    Glorot = auto()\n",
    "    Normal = auto()\n",
    "    Zero = auto()\n",
    "\n",
    "\n",
    "# MLP\n",
    "class MLP(torch.nn.Module):\n",
    "\n",
    "    def __init__(self, n_feature, n_hidden_1, n_hidden_2, n_output):\n",
    "        super(MLP, self).__init__()\n",
    "        self.hidden_1 = torch.nn.Linear(n_feature, n_hidden_1)\n",
    "        self.hidden_2 = torch.nn.Linear(n_hidden_1, n_hidden_2)\n",
    "        self.output = torch.nn.Linear(n_hidden_2, n_output)\n",
    "\n",
    "    def forward(self, x):\n",
    "        x = F.relu(self.hidden_1(x))\n",
    "        x = F.relu(self.hidden_2(x))\n",
    "        x = F.log_softmax(x)\n",
    "        x = self.output(x)\n",
    "        return x\n",
    "\n",
    "\n",
    "def get_balanced_batches(dataset_length, shuffle, batch_size: int = 50):\n",
    "    \"\"\"Create indices for batches balanced in size (batches will have maximum size difference of 1).\n",
    "    Supply either batch size or number of batches. Resulting batches\n",
    "    will not have the given batch size but rather the next largest batch size\n",
    "    that allows to split the set into balanced batches (maximum size difference 1).\n",
    "    Parameters\n",
    "    ----------\n",
    "    dataset_length : int\n",
    "        Size of set. \n",
    "    shuffle :\n",
    "        Whether to shuffle indices before splitting set.\n",
    "    batch_size :\n",
    "         (Default value = None)\n",
    "    Returns\n",
    "    -------\n",
    "    \"\"\"\n",
    "    assert batch_size is not None\n",
    "    n_batches = int(np.round(dataset_length / float(batch_size)))\n",
    "\n",
    "    min_batch_size = dataset_length // n_batches\n",
    "    n_batches_with_extra_trial = dataset_length % n_batches\n",
    "    assert n_batches_with_extra_trial < n_batches\n",
    "    all_inds = np.array(range(dataset_length))\n",
    "    if shuffle:\n",
    "        np.random.shuffle(all_inds)\n",
    "    i_start_trial = 0\n",
    "    i_stop_trial = 0\n",
    "    batches = []\n",
    "    for i_batch in range(n_batches):\n",
    "        i_stop_trial += min_batch_size\n",
    "        if i_batch < n_batches_with_extra_trial:\n",
    "            i_stop_trial += 1\n",
    "        batch_inds = all_inds[range(i_start_trial, i_stop_trial)]\n",
    "        batches.append(batch_inds)\n",
    "        i_start_trial = i_stop_trial\n",
    "    assert i_start_trial == dataset_length\n",
    "    return batches\n",
    "\n",
    "\n",
    "def train_mlp(mlp, train_data, train_labels, validation_data, validation_labels, test_data, test_labels,\n",
    "              init: Init = Init.Glorot,\n",
    "              batch_size: int = 100, epoches: int = 100, learning_rate=0.5, momentum=0.1):\n",
    "    train_num = len(train_data)\n",
    "    test_num = len(test_data)\n",
    "    validation_num = len(validation_data)\n",
    "\n",
    "    if torch.cuda.is_available():\n",
    "        mlp = mlp.cuda()\n",
    "\n",
    "    # init bias\n",
    "    torch.nn.init.constant(mlp.hidden_1.bias, 0)\n",
    "    torch.nn.init.constant(mlp.hidden_2.bias, 0)\n",
    "    torch.nn.init.constant(mlp.output.bias, 0)\n",
    "\n",
    "    # init weight to zero\n",
    "    if init == Init.Zero:\n",
    "        torch.nn.init.constant(mlp.hidden_1.weight, 0)\n",
    "        torch.nn.init.constant(mlp.hidden_2.weight, 0)\n",
    "        torch.nn.init.constant(mlp.output.weight, 0)\n",
    "    # init weight to normal\n",
    "    elif init == Init.Normal:\n",
    "        torch.nn.init.normal(mlp.hidden_1.weight, mean=0, std=1)\n",
    "        torch.nn.init.normal(mlp.hidden_2.weight, mean=0, std=1)\n",
    "        torch.nn.init.normal(mlp.output.weight, mean=0, std=1)\n",
    "    # init weight to Glorot\n",
    "    else:\n",
    "        torch.nn.init.xavier_uniform(mlp.hidden_1.weight, gain=1)\n",
    "        torch.nn.init.xavier_uniform(mlp.hidden_2.weight, gain=1)\n",
    "        torch.nn.init.xavier_uniform(mlp.output.weight, gain=1)\n",
    "\n",
    "    optimizer = torch.optim.SGD(mlp.parameters(), lr=learning_rate, momentum=momentum)\n",
    "    loss_func = torch.nn.CrossEntropyLoss()\n",
    "    losses = torch.zeros(epoches, 3)\n",
    "    losses = Variable(losses)\n",
    "\n",
    "    accuracy = torch.zeros(epoches, 5)\n",
    "    accuracy = Variable(accuracy)\n",
    "\n",
    "    for epoch in range(epoches):\n",
    "        if epoch % 10 == 0:\n",
    "          print('epoch = %d' % epoch)\n",
    "        shuffle = True\n",
    "        batches_indexes = get_balanced_batches(train_num, shuffle, batch_size)\n",
    "        train_accuarcy_list = []\n",
    "\n",
    "        for i_batch, example_inds in enumerate(batches_indexes):\n",
    "\n",
    "            inputs = torch.from_numpy(train_data[example_inds])\n",
    "            labels = torch.from_numpy(train_labels[example_inds])\n",
    "            if torch.cuda.is_available():\n",
    "                inputs, labels = inputs.cuda(), labels.cuda()\n",
    "            inputs, labels = Variable(inputs), Variable(labels)\n",
    "\n",
    "            # forward\n",
    "            prediction = mlp(inputs)\n",
    "            loss = loss_func(prediction, labels)\n",
    "            losses[epoch, 0] = losses[epoch, 0] + loss.data[0]\n",
    "\n",
    "            train_accuarcy_list.append(AccuarcyCompute(prediction, labels))\n",
    "            optimizer.zero_grad()\n",
    "            loss.backward()\n",
    "            optimizer.step()\n",
    "        # average_loss of each epoch\n",
    "        losses[epoch, 1] = losses[epoch, 0] / (train_num / batch_size)\n",
    "        losses[epoch, 2] = epoch\n",
    "        # accuracy rate on training set of each epoch\n",
    "        accuracy[epoch, 1] = (sum(train_accuarcy_list) / len(train_accuarcy_list))\n",
    "\n",
    "        # print 10 loss values\n",
    "        # if  (10*i)%(train_num /batch_size)== 0:\n",
    "        #    print('current loss = %.5f' % loss.data[0])\n",
    "\n",
    "        shuffle = False\n",
    "        batches_indexes = get_balanced_batches(test_num, shuffle, batch_size)\n",
    "        test_accuarcy_list = []\n",
    "        for i_batch, example_inds in enumerate(batches_indexes):\n",
    "            inputs = torch.from_numpy(test_data[example_inds])\n",
    "            labels = torch.from_numpy(test_labels[example_inds])\n",
    "            if torch.cuda.is_available():\n",
    "                inputs, labels = inputs.cuda(), labels.cuda()\n",
    "            inputs, labels = Variable(inputs), Variable(labels)\n",
    "\n",
    "            prediction = mlp(inputs)\n",
    "            test_accuarcy_list.append(AccuarcyCompute(prediction, labels))\n",
    "        # accuracy rate on testset of each epoch\n",
    "        accuracy[epoch, 3] = (sum(test_accuarcy_list) / len(test_accuarcy_list))\n",
    "\n",
    "        shuffle = False\n",
    "        batches_indexes = get_balanced_batches(validation_num, shuffle, batch_size)\n",
    "        validation_accuarcy_list = []\n",
    "        for i_batch, example_inds in enumerate(batches_indexes):\n",
    "            inputs = torch.from_numpy(validation_data[example_inds])\n",
    "            labels = torch.from_numpy(validation_labels[example_inds])\n",
    "            if torch.cuda.is_available():\n",
    "                inputs, labels = inputs.cuda(), labels.cuda()\n",
    "            inputs, labels = Variable(inputs), Variable(labels)\n",
    "\n",
    "            prediction = mlp(inputs)\n",
    "            validation_accuarcy_list.append(AccuarcyCompute(prediction, labels))\n",
    "        # accuracy rate on testset of each epoch\n",
    "        accuracy[epoch, 2] = (sum(validation_accuarcy_list) / len(validation_accuarcy_list))\n",
    "        accuracy[epoch, 4] = accuracy[epoch, 1] - accuracy[epoch, 3]\n",
    "        accuracy[epoch, 0] = epoch\n",
    "\n",
    "    return accuracy\n",
    "\n",
    "\n",
    "def AccuarcyCompute(pred, label):\n",
    "    pred = pred.cpu().data.numpy()\n",
    "    label = label.cpu().data.numpy()\n",
    "    #     print(pred.shape(),label.shape())\n",
    "    test_np = (np.argmax(pred, 1) == label)\n",
    "    test_np = np.float32(test_np)\n",
    "    return np.mean(test_np)\n",
    "\n",
    "\n",
    "def sample_dataset(dataset, alpha):\n",
    "    sample_index = np.random.choice(len(dataset[0]), int(alpha * len(dataset[0])))\n",
    "    new_dataset = (dataset[0][sample_index], dataset[1][sample_index])\n",
    "    return new_dataset\n",
    "\n",
    "\n",
    "def training_one_trial(mlp, train_set, alpha):\n",
    "    train_set = sample_dataset(train_set, alpha)\n",
    "\n",
    "    train_data = train_set[0].reshape(-1, 28 * 28)\n",
    "    train_labels = train_set[1]\n",
    "\n",
    "    test_data = test_set[0].reshape(-1, 28 * 28)\n",
    "    test_labels = test_set[1]\n",
    "\n",
    "    validation_data = val_set[0].reshape(-1, 28 * 28)\n",
    "    validation_labels = val_set[1]\n",
    "\n",
    "    # hyper parameter\n",
    "    batch_size = 40\n",
    "    learning_rate = 0.01\n",
    "    momemtum = 0.8\n",
    "    epoches = 100\n",
    "    init = Init.Glorot\n",
    "\n",
    "    accuracy = train_mlp(mlp, train_data, train_labels, validation_data, validation_labels,\n",
    "                         test_data, test_labels, init,\n",
    "                         batch_size, epoches, learning_rate, momemtum)\n",
    "    return accuracy\n",
    "\n",
    "\n",
    "def training_subsets_one_trial():\n",
    "    list_accuracy = []\n",
    "    for alpha in sample_alpha:\n",
    "        accuracy = training_one_trial(mlp, train_set, alpha)\n",
    "        list_accuracy.append(accuracy)\n",
    "    return list_accuracy\n",
    "\n",
    "\n",
    "def training_subsets_trials():\n",
    "    list_accuracy_all_trials = []\n",
    "    list_averaged_accuracy = []\n",
    "    for alpha in sample_alpha:\n",
    "        list_accuracy = []\n",
    "        for i in range(5):\n",
    "            accuracy = training_one_trial(mlp, train_set, alpha)\n",
    "            list_accuracy.append(accuracy[-1, :])\n",
    "        averaged_accuracy = (\n",
    "                    sum(list_accuracy) / len(list_accuracy))  # averaged accuracy of all train,test,validation,gap\n",
    "        list_accuracy_all_trials.append(list_accuracy)\n",
    "        list_averaged_accuracy.append(averaged_accuracy)\n",
    "    return list_accuracy_all_trials, list_averaged_accuracy\n",
    "\n",
    "\n",
    "# loading local dataset\n",
    "from sklearn.datasets import fetch_mldata\n",
    "mnist = fetch_mldata('MNIST original')\n",
    "\n",
    "X, y = (mnist.data.astype(np.float32) / 255), mnist.target\n",
    "permutation = np.random.permutation(len(X))\n",
    "X = X[permutation]\n",
    "y = y[permutation]\n",
    "train_set = (X[:50000], y[:50000].astype(np.int64))\n",
    "val_set = (X[50000:60000], y[50000:60000].astype(np.int64))\n",
    "test_set = (X[60000:], y[60000:].astype(np.int64))\n",
    "\n",
    "# set the structure of network\n",
    "mlp = MLP(28 * 28, 512, 400, 10)\n",
    "print(mlp)\n",
    "\n",
    "sample_alpha = [0.01, 0.02, 0.05, 0.1, 1.0]\n",
    "\n",
    "# question 1\n",
    "list_accuracy = training_subsets_one_trial()"
   ]
  },
  {
   "cell_type": "markdown",
   "metadata": {
    "colab_type": "text",
    "id": "xVKeVAO5goF8"
   },
   "source": [
    "# Question 1.a"
   ]
  },
  {
   "cell_type": "code",
   "execution_count": 13,
   "metadata": {
    "colab": {
     "autoexec": {
      "startup": false,
      "wait_interval": 0
     },
     "base_uri": "https://localhost:8080/",
     "height": 1688,
     "output_extras": [
      {
       "item_id": 1
      },
      {
       "item_id": 2
      },
      {
       "item_id": 3
      },
      {
       "item_id": 4
      },
      {
       "item_id": 5
      }
     ]
    },
    "colab_type": "code",
    "collapsed": false,
    "executionInfo": {
     "elapsed": 1144,
     "status": "ok",
     "timestamp": 1519101437966,
     "user": {
      "displayName": "Breandan Considine",
      "photoUrl": "//lh3.googleusercontent.com/-v5D3F5vV4qg/AAAAAAAAAAI/AAAAAAAAB-0/cGc4-tIe0NQ/s50-c-k-no/photo.jpg",
      "userId": "112134772872346499317"
     },
     "user_tz": 300
    },
    "id": "RDAt8Q3_gFbw",
    "outputId": "81399365-eb25-4d16-eff0-cf80aecf8468"
   },
   "outputs": [
    {
     "data": {
      "image/png": "[encoded data removed]",
      "text/plain": [
       "<matplotlib.figure.Figure at 0x7fbc810cfa58>"
      ]
     },
     "metadata": {
      "tags": []
     },
     "output_type": "display_data"
    },
    {
     "data": {
      "image/png": "[encoded data removed]",
      "text/plain": [
       "<matplotlib.figure.Figure at 0x7fbc7a767470>"
      ]
     },
     "metadata": {
      "tags": []
     },
     "output_type": "display_data"
    },
    {
     "data": {
      "image/png": "[encoded data removed]",
      "text/plain": [
       "<matplotlib.figure.Figure at 0x7fbc7aebe940>"
      ]
     },
     "metadata": {
      "tags": []
     },
     "output_type": "display_data"
    },
    {
     "data": {
      "image/png": "[encoded data removed]",
      "text/plain": [
       "<matplotlib.figure.Figure at 0x7fbc7acb4e10>"
      ]
     },
     "metadata": {
      "tags": []
     },
     "output_type": "display_data"
    },
    {
     "data": {
      "image/png": "[encoded data removed]",
      "text/plain": [
       "<matplotlib.figure.Figure at 0x7fbc7aac14e0>"
      ]
     },
     "metadata": {
      "tags": []
     },
     "output_type": "display_data"
    }
   ],
   "source": [
    "i = 1\n",
    "for accuracy in list_accuracy:\n",
    "    plt.figure(i)\n",
    "    i += 1\n",
    "    plt.plot(accuracy.data.numpy()[:, 0], accuracy.data.numpy()[:, 1], 'r', lw=2, label=\"training set accuracy\")\n",
    "    plt.plot(accuracy.data.numpy()[:, 0], accuracy.data.numpy()[:, 2], 'b', lw=2, label=\"validation set accuracy\")\n",
    "    plt.plot(accuracy.data.numpy()[:, 0], accuracy.data.numpy()[:, 3], 'g', lw=2, label=\"test set accuracy\")\n",
    "plt.show()"
   ]
  },
  {
   "cell_type": "markdown",
   "metadata": {
    "colab_type": "text",
    "id": "ZBMc6mZQgrJr"
   },
   "source": [
    "# Generalization Gap\n"
   ]
  },
  {
   "cell_type": "code",
   "execution_count": 14,
   "metadata": {
    "colab": {
     "autoexec": {
      "startup": false,
      "wait_interval": 0
     },
     "base_uri": "https://localhost:8080/",
     "height": 98,
     "output_extras": [
      {
       "item_id": 1
      }
     ]
    },
    "colab_type": "code",
    "collapsed": false,
    "executionInfo": {
     "elapsed": 270,
     "status": "ok",
     "timestamp": 1519101472568,
     "user": {
      "displayName": "Breandan Considine",
      "photoUrl": "//lh3.googleusercontent.com/-v5D3F5vV4qg/AAAAAAAAAAI/AAAAAAAAB-0/cGc4-tIe0NQ/s50-c-k-no/photo.jpg",
      "userId": "112134772872346499317"
     },
     "user_tz": 300
    },
    "id": "nmHi7tligK8u",
    "outputId": "ebf1ba80-6284-4fb6-e6f9-c31c4f49b581"
   },
   "outputs": [
    {
     "name": "stdout",
     "output_type": "stream",
     "text": [
      "alpha: 0.01  generalization gap: 0.13630002737045288\n",
      "alpha: 0.02  generalization gap: 0.11500000953674316\n",
      "alpha: 0.05  generalization gap: 0.07400000095367432\n",
      "alpha: 0.1  generalization gap: 0.05210000276565552\n",
      "alpha: 1.0  generalization gap: 0.024100005626678467\n"
     ]
    }
   ],
   "source": [
    "for alpha, accuracy in zip(sample_alpha, list_accuracy):\n",
    "    print(\"alpha: {0}  generalization gap: {1}\".format(alpha, accuracy.data.numpy()[-1, 4]))"
   ]
  },
  {
   "cell_type": "markdown",
   "metadata": {
    "colab_type": "text",
    "id": "YGv3tkqnhsJH"
   },
   "source": [
    "The model with the lowest generalization gap has an alpha of 1.0. "
   ]
  },
  {
   "cell_type": "markdown",
   "metadata": {
    "colab_type": "text",
    "id": "QT-c6E3Kgv6F"
   },
   "source": [
    "# Problem 1.c"
   ]
  },
  {
   "cell_type": "code",
   "execution_count": 0,
   "metadata": {
    "colab": {
     "autoexec": {
      "startup": false,
      "wait_interval": 0
     },
     "base_uri": "https://localhost:8080/",
     "height": 1599,
     "output_extras": [
      {
       "item_id": 1
      },
      {
       "item_id": 2
      },
      {
       "item_id": 102
      }
     ]
    },
    "colab_type": "code",
    "collapsed": false,
    "id": "nnB7WEZ_gQ-u",
    "outputId": "71a0dbcd-fcba-4a54-8d42-8c9e5217b3b9"
   },
   "outputs": [
    {
     "name": "stdout",
     "output_type": "stream",
     "text": [
      "epoch = 0\n"
     ]
    },
    {
     "name": "stderr",
     "output_type": "stream",
     "text": [
      "/usr/local/lib/python3.6/dist-packages/ipykernel_launcher.py:30: UserWarning: Implicit dimension choice for log_softmax has been deprecated. Change the call to include dim=X as an argument.\n"
     ]
    },
    {
     "name": "stdout",
     "output_type": "stream",
     "text": [
      "epoch = 10\n",
      "epoch = 20\n",
      "epoch = 30\n",
      "epoch = 40\n",
      "epoch = 50\n",
      "epoch = 60\n",
      "epoch = 70\n",
      "epoch = 80\n",
      "epoch = 90\n",
      "epoch = 0\n",
      "epoch = 10\n",
      "epoch = 20\n",
      "epoch = 30\n",
      "epoch = 40\n",
      "epoch = 50\n",
      "epoch = 60\n",
      "epoch = 70\n",
      "epoch = 80\n",
      "epoch = 90\n",
      "epoch = 0\n",
      "epoch = 10\n",
      "epoch = 20\n",
      "epoch = 30\n",
      "epoch = 40\n",
      "epoch = 50\n",
      "epoch = 60\n",
      "epoch = 70\n",
      "epoch = 80\n",
      "epoch = 90\n",
      "epoch = 0\n",
      "epoch = 10\n",
      "epoch = 20\n",
      "epoch = 30\n",
      "epoch = 40\n",
      "epoch = 50\n",
      "epoch = 60\n",
      "epoch = 70\n",
      "epoch = 80\n",
      "epoch = 90\n",
      "epoch = 0\n",
      "epoch = 10\n",
      "epoch = 20\n",
      "epoch = 30\n",
      "epoch = 40\n",
      "epoch = 50\n",
      "epoch = 60\n",
      "epoch = 70\n",
      "epoch = 80\n",
      "epoch = 90\n",
      "epoch = 0\n",
      "epoch = 10\n",
      "epoch = 20\n",
      "epoch = 30\n",
      "epoch = 40\n",
      "epoch = 50\n",
      "epoch = 60\n",
      "epoch = 70\n",
      "epoch = 80\n",
      "epoch = 90\n",
      "epoch = 0\n",
      "epoch = 10\n",
      "epoch = 20\n",
      "epoch = 30\n",
      "epoch = 40\n",
      "epoch = 50\n",
      "epoch = 60\n",
      "epoch = 70\n",
      "epoch = 80\n",
      "epoch = 90\n",
      "epoch = 0\n",
      "epoch = 10\n",
      "epoch = 20\n",
      "epoch = 30\n",
      "epoch = 40\n",
      "epoch = 50\n",
      "epoch = 60\n",
      "epoch = 70\n",
      "epoch = 80\n",
      "epoch = 90\n",
      "epoch = 0\n",
      "epoch = 10\n",
      "epoch = 20\n",
      "epoch = 30\n",
      "epoch = 40\n",
      "epoch = 50\n",
      "epoch = 60\n",
      "epoch = 70\n",
      "epoch = 80\n",
      "epoch = 90\n",
      "epoch = 0\n",
      "epoch = 10\n",
      "epoch = 20\n",
      "epoch = 30\n",
      "epoch = 40\n",
      "epoch = 50\n",
      "epoch = 60\n",
      "epoch = 70\n",
      "epoch = 80\n",
      "epoch = 90\n",
      "epoch = 0\n"
     ]
    }
   ],
   "source": [
    "# question 2 and 3\n",
    "list_accuracy_all_trials, list_averaged_accuracy = training_subsets_trials()"
   ]
  },
  {
   "cell_type": "code",
   "execution_count": 0,
   "metadata": {
    "colab": {
     "autoexec": {
      "startup": false,
      "wait_interval": 0
     }
    },
    "colab_type": "code",
    "collapsed": true,
    "id": "Oh10Hi0CgTYq"
   },
   "outputs": [],
   "source": [
    "# question 2\n",
    "for list_accuracy in list_accuracy_all_trials:\n",
    "    print(\"alpha:{0},  trials:{1},  training accuracy:{2},  validation accuracy:{3},\"\n",
    "          \"  test accuracy:{4},  generalization gap: {5}\".format(alpha, i, accuracy.data.numpy()[-1, 1],\n",
    "                                                                 accuracy.data.numpy()[-1, 2],\n",
    "                                                                 accuracy.data.numpy()[-1, 3],\n",
    "                                                                 accuracy.data.numpy()[-1, 4]))"
   ]
  },
  {
   "cell_type": "code",
   "execution_count": 0,
   "metadata": {
    "colab": {
     "autoexec": {
      "startup": false,
      "wait_interval": 0
     },
     "base_uri": "https://localhost:8080/",
     "height": 2302,
     "output_extras": [
      {
       "item_id": 1
      },
      {
       "item_id": 2
      },
      {
       "item_id": 3
      },
      {
       "item_id": 4
      },
      {
       "item_id": 5
      },
      {
       "item_id": 6
      },
      {
       "item_id": 7
      },
      {
       "item_id": 37
      }
     ]
    },
    "colab_type": "code",
    "collapsed": false,
    "id": "WoOp5jU55xo6",
    "outputId": "0c716ef4-728e-4515-fec1-5ceff3ef90cd"
   },
   "outputs": [
    {
     "data": {
      "image/png": "[encoded data removed]",
      "text/plain": [
       "<matplotlib.figure.Figure at 0x7fbc7abb24a8>"
      ]
     },
     "metadata": {
      "tags": []
     },
     "output_type": "display_data"
    },
    {
     "data": {
      "image/png": "[encoded data removed]",
      "text/plain": [
       "<matplotlib.figure.Figure at 0x7fbc7aeb8f60>"
      ]
     },
     "metadata": {
      "tags": []
     },
     "output_type": "display_data"
    },
    {
     "data": {
      "image/png": "[encoded data removed]",
      "text/plain": [
       "<matplotlib.figure.Figure at 0x7fbc810bb898>"
      ]
     },
     "metadata": {
      "tags": []
     },
     "output_type": "display_data"
    },
    {
     "data": {
      "image/png": "[encoded data removed]",
      "text/plain": [
       "<matplotlib.figure.Figure at 0x7fbc7ae98978>"
      ]
     },
     "metadata": {
      "tags": []
     },
     "output_type": "display_data"
    },
    {
     "data": {
      "image/png": "[encoded data removed]",
      "text/plain": [
       "<matplotlib.figure.Figure at 0x7fbc7adc5be0>"
      ]
     },
     "metadata": {
      "tags": []
     },
     "output_type": "display_data"
    },
    {
     "name": "stdout",
     "output_type": "stream",
     "text": [
      "alpha: 0.01  generalization gap: 0.24650001525878906\n",
      "alpha: 0.02  generalization gap: 0.18809998035430908\n",
      "alpha: 0.05  generalization gap: 0.15759998559951782\n",
      "alpha: 0.1  generalization gap: 0.14190000295639038\n",
      "alpha: 1.0  generalization gap: 0.11619997024536133\n",
      "epoch = 0\n"
     ]
    },
    {
     "name": "stderr",
     "output_type": "stream",
     "text": [
      "/usr/local/lib/python3.6/dist-packages/ipykernel_launcher.py:30: UserWarning: Implicit dimension choice for log_softmax has been deprecated. Change the call to include dim=X as an argument.\n"
     ]
    },
    {
     "name": "stdout",
     "output_type": "stream",
     "text": [
      "epoch = 10\n",
      "epoch = 20\n",
      "epoch = 30\n",
      "epoch = 40\n",
      "epoch = 50\n",
      "epoch = 60\n",
      "epoch = 70\n",
      "epoch = 80\n",
      "epoch = 90\n",
      "epoch = 0\n",
      "epoch = 10\n",
      "epoch = 20\n",
      "epoch = 30\n",
      "epoch = 40\n",
      "epoch = 50\n",
      "epoch = 60\n",
      "epoch = 70\n",
      "epoch = 80\n",
      "epoch = 90\n",
      "epoch = 0\n",
      "epoch = 10\n",
      "epoch = 20\n",
      "epoch = 30\n",
      "epoch = 40\n",
      "epoch = 50\n",
      "epoch = 60\n",
      "epoch = 70\n",
      "epoch = 80\n",
      "epoch = 90\n",
      "epoch = 0\n"
     ]
    }
   ],
   "source": [
    "# question 3\n",
    "for alpha, averaged_accuracy in zip(sample_alpha, list_averaged_accuracy):\n",
    "    print(\"alpha: {0}  generalization gap: {1}\".format(alpha, averaged_accuracy.data.numpy()[-1, 4]))"
   ]
  },
  {
   "cell_type": "markdown",
   "metadata": {
    "colab_type": "text",
    "id": "8UUSw3qZcAkj"
   },
   "source": [
    "# Problem #2\n",
    "\n",
    "In this problem, we will build a Multi-layer Perceptron (MLP) and train it on the 20 Newsgroups. 20 Newsgroups is a collection of roughly 20,000 documents taken from 20 different newsgroups (comp.graphics, sci.electronics, etc). The task is to predict which group the document comes from. Process the data as follows:\n",
    "\n",
    "1. Each document is represented as a bag of words. Each document $x_i$ is represented as a vector the size of the vocabulary (around 50k in our case). Each position $x_{ij}$ is then the count of how many times the word $w_j$ appears in document $x_i$.\n",
    "\n",
    "## Building the model \n",
    "\n",
    "For the following question, use an MLP with a single hidden layer of size 100, initialized using the Glorot initialization. A momentum 6 of 0.9 should also be used during the training. We will look at the effect that preprocessing can have on the results. Consider the three following preprocessing procedures:\n",
    "\n",
    "* **No preprocessing**: The input of the model is the count of the different words.\n",
    "* **tf-idf**: All the words in the documents are processed according to their tf-idf( Standard way to preprocess text document data). You can implement your own version of tf-idf if you prefer, but feel free to use the implementation from here. The focus is the importance of preprocessing.\n",
    "* **Standardization**: All word counts in the document in the training and test set are normalized so that the mean is 0 and variance is 1: $d_i^j=\\frac{d_i^j-u_{j_{train}}}{\\sigma j_{train}+\\epsilon}$, where $\\epsilon=1e-5$.\n",
    "\n",
    "For the three processing procedures do a quick hyper-parameter search for the learning rate. Plot\n",
    "the accuracy on the training and test set for 20 epochs.\n",
    "\n",
    "1. Briefly discuss the results,\n",
    "2. and answer the following points in a few lines each:\n",
    "\n",
    "  a. Could the same learning rate could be used for all of the models? Why, or why not?\n",
    "  \n",
    "  b. What might have happened if \u000f = 0 for the Standardization preprocessing? Why? Besides modifying, how else could we deal with this problem?\n",
    "  \n",
    "  c. What advantage does tf-idf has over basic word count approach that could help the model learn better?\n",
    "  \n",
    "##Variance in training\n",
    "\n",
    "Using the same MLP as the previous question and the tf-idf preprocessing, do the following: Using **only** vanilla SGD, and a minibatch size of 1, record the loss on the training set for the first 5000 updates (not epoch!). Do the same thing with a minibatch size of 100 and plot them. The same learning rate should be used in both settings. It should also be high enough that the loss is clearly going down (≥ 0.1 is a good starting point).\n",
    "\n",
    "Answer the following questions:\n",
    "\n",
    "* Given that the two models had updates of the same magnitude, how do you explain the variance and the difference in the loss?\n",
    "\n",
    "*  If we could only have a minibatch of size 1, what technique could we use to reduce the variance during training? Explain the intuition behind it."
   ]
  },
  {
   "cell_type": "code",
   "execution_count": 0,
   "metadata": {
    "colab": {
     "autoexec": {
      "startup": false,
      "wait_interval": 0
     }
    },
    "colab_type": "code",
    "collapsed": true,
    "id": "po80PSMbb_8q"
   },
   "outputs": [],
   "source": [
    "from sklearn.datasets import fetch_20newsgroups\n",
    "from sklearn.feature_extraction.text import CountVectorizer\n",
    "from sklearn.feature_extraction.text import TfidfTransformer\n",
    "import numpy as np\n",
    "import matplotlib.pyplot as plt\n",
    "\n",
    "from torch import optim\n",
    "import torch.nn as nn\n",
    "import torch.nn.functional as F\n",
    "from torch.autograd import Variable\n",
    "from torch.utils.data import Dataset, DataLoader\n",
    "import torch\n",
    "\n",
    "\n",
    "class newsDataset(Dataset):\n",
    "\n",
    "    def __init__(self, train_data, target_data, transform=None):\n",
    "        self.train_data = train_data\n",
    "        self.target_data = target_data\n",
    "        self.transform = transform\n",
    "        if transform == 'stdize':\n",
    "            self.feat_means = np.mean(train_data.toarray(), axis=0)\n",
    "            self.feat_stds = np.std(train_data.toarray(), axis=0)\n",
    "\n",
    "    def __len__(self):\n",
    "        return self.train_data.shape[0]\n",
    "\n",
    "    def get_data_length(self):\n",
    "        return self.train_data.shape[1]\n",
    "\n",
    "    def __getitem__(self, idx):\n",
    "        if self.transform == 'stdize':\n",
    "            return (\n",
    "                np.array((self.train_data[idx]-self.feat_means)/(1e-5+self.feat_stds)).reshape(-1),\n",
    "                self.target_data[idx])\n",
    "        else:\n",
    "            return (self.train_data[idx].toarray(), self.target_data[idx])\n",
    "\n",
    "\n",
    "def load_data(transformation, batch_size):\n",
    "    #  Load data\n",
    "    newsgroups_data = fetch_20newsgroups(data_home='./', subset='all')\n",
    "    newsgroups_targets = newsgroups_data.target\n",
    "\n",
    "    count_vect = CountVectorizer(min_df=10)\n",
    "    newsgroups_input_data = count_vect.fit_transform(newsgroups_data.data)\n",
    "    del newsgroups_data, count_vect\n",
    "\n",
    "    if transformation == 'tfidf':\n",
    "        tfidf_transformer = TfidfTransformer()\n",
    "        newsgroups_input_data = tfidf_transformer.fit_transform(newsgroups_input_data)\n",
    "        print('applied tfidf successfully!')\n",
    "    #if transformation == 'stdize':\n",
    "    #    feat_means = np.mean(newsgroups_input_data.toarray(), axis=0)\n",
    "    #    newsgroups_input_data -= feat_means\n",
    "    #    del feat_means\n",
    "    #    feat_vars = np.std(newsgroups_input_data.toarray(), axis=0)\n",
    "    #    newsgroups_input_data /= (feat_vars + 1e-5)\n",
    "    #    del feat_vars\n",
    "    #    print('standardized columns successfully!')\n",
    "\n",
    "    train_ind = int(newsgroups_targets.shape[0]*0.6)\n",
    "    valid_ind = int(newsgroups_targets.shape[0]*0.8)\n",
    "\n",
    "    training_data = newsDataset(train_data=newsgroups_input_data[0:train_ind],\n",
    "                                target_data=newsgroups_targets[0:train_ind],\n",
    "                                transform=transformation)\n",
    "    train_dataloader = DataLoader(training_data, batch_size=batch_size, shuffle=True, num_workers=8)\n",
    "\n",
    "    input_size, output_size = training_data.get_data_length(), 20\n",
    "\n",
    "    del training_data\n",
    "\n",
    "    valid_data = newsDataset(train_data=newsgroups_input_data[(train_ind+1):valid_ind],\n",
    "                             target_data=newsgroups_targets[(train_ind+1):valid_ind],\n",
    "                             transform=transformation)\n",
    "    valid_dataloader = DataLoader(valid_data, batch_size=64, shuffle=True, num_workers=8)\n",
    "\n",
    "    del valid_data, train_ind\n",
    "\n",
    "    test_data = newsDataset(train_data=newsgroups_input_data[(valid_ind+1):],\n",
    "                            target_data=newsgroups_targets[(valid_ind+1):],\n",
    "                            transform=transformation)\n",
    "\n",
    "    del newsgroups_targets, newsgroups_input_data, valid_ind\n",
    "\n",
    "    test_dataloader = DataLoader(test_data, batch_size=64, shuffle=True, num_workers=8)\n",
    "\n",
    "    del test_data\n",
    "\n",
    "    return train_dataloader, valid_dataloader, test_dataloader, input_size, output_size\n",
    "\n",
    "\n",
    "#  Build the model\n",
    "class Net(nn.Module):\n",
    "    def __init__(self, input_size, output_size):\n",
    "        super(Net, self).__init__()\n",
    "        self.fc1 = nn.Linear(input_size, 100)\n",
    "        a = np.sqrt(6 / (100 + input_size))\n",
    "        torch.nn.init.uniform(self.fc1.weight, -a, a)\n",
    "\n",
    "        self.fc2 = nn.Linear(100, output_size)\n",
    "        a = np.sqrt(6 / (100 + output_size))\n",
    "        torch.nn.init.uniform(self.fc2.weight, -a, a)\n",
    "\n",
    "    def forward(self, x):\n",
    "        x = F.relu(self.fc1(x))\n",
    "        x = self.fc2(x)\n",
    "        return F.log_softmax(x)\n",
    "\n",
    "\n",
    "def compute_accuracy(model, dataloader, input_size):\n",
    "    error = 0\n",
    "    acc = 0\n",
    "    total = 0\n",
    "\n",
    "    for i_batch, (data, target) in enumerate(dataloader):\n",
    "        data, target = data.cuda(), target.cuda()\n",
    "        data, target = Variable(data.float()), Variable(target)\n",
    "        data = data.view(-1, input_size)\n",
    "\n",
    "        pred = model(data)\n",
    "        loss = F.nll_loss(pred, target)\n",
    "        error += loss.data[0]\n",
    "\n",
    "        acc += (torch.max(pred, 1)[1].eq(target)).sum().data[0]\n",
    "        total += len(target)\n",
    "\n",
    "    return 100 * (acc / total), error / len(dataloader)\n",
    "\n",
    "\n",
    "def train_model(model, lr, epochs, compute_test_error, train_dataloader,\n",
    "                valid_dataloader, test_dataloader,\n",
    "                input_size, transformation, momentum, get_updates=False):\n",
    "\n",
    "    train_accuracy = []\n",
    "    valid_accuracy = []\n",
    "    test_accuracy = []\n",
    "    if get_updates:\n",
    "        updates = []\n",
    "\n",
    "    # create a stochastic gradient descent optimizer\n",
    "    optimizer = optim.SGD(model.parameters(), lr=lr, momentum=momentum)\n",
    "\n",
    "    for epoch in range(epochs):\n",
    "        train_acc = 0\n",
    "        total = 0\n",
    "        model.train()\n",
    "        end = False\n",
    "\n",
    "        for i_batch, (data, target) in enumerate(train_dataloader):\n",
    "            data, target = data.cuda(), target.cuda()\n",
    "            data, target = Variable(data.float()), Variable(target)\n",
    "            data = data.view(-1, input_size)\n",
    "            optimizer.zero_grad()\n",
    "\n",
    "            pred = model(data)\n",
    "            loss = F.nll_loss(pred, target)\n",
    "\n",
    "            if get_updates:\n",
    "                updates.append(loss.data[0])\n",
    "                if len(updates) > 5000:\n",
    "                    return updates\n",
    "\n",
    "            if loss.data[0] > 10000:\n",
    "                print('learning is too unstable, terminating ...')\n",
    "                end = True\n",
    "                break\n",
    "\n",
    "            loss.backward()\n",
    "            optimizer.step()\n",
    "\n",
    "            if i_batch % 25 == 0:\n",
    "                print('Train Epoch: {} [{}/{} ({:.0f}%)]\\tLoss: {:.6f}'.format(\n",
    "                    epoch, i_batch, len(train_dataloader),\n",
    "                           100. * i_batch / len(train_dataloader), loss.data[0]))\n",
    "\n",
    "            train_acc += (torch.max(pred, 1)[1].eq(target)).sum().data[0]\n",
    "            total += len(target)\n",
    "\n",
    "        if end:\n",
    "            train_accuracy.append(0)\n",
    "            valid_accuracy.append(0)\n",
    "            test_accuracy.append(0)\n",
    "            break\n",
    "\n",
    "        train_accuracy.append(100*(train_acc/total))\n",
    "\n",
    "        model.eval()\n",
    "        acc, error = compute_accuracy(model, valid_dataloader, input_size)\n",
    "        print('Valid Epoch: {} Loss: {:.6f} Accuracy: {:.6f} %'.format(epoch, error, acc))\n",
    "        valid_accuracy.append(acc)\n",
    "\n",
    "        if compute_test_error:\n",
    "            acc, error = compute_accuracy(model, test_dataloader, input_size)\n",
    "            test_accuracy.append(acc)\n",
    "\n",
    "    if compute_test_error:\n",
    "        plt.figure()\n",
    "        plt.title('Accuracy of Training and Test Sets for Transformation: {}'.format(transformation))\n",
    "        plt.plot(train_accuracy, color='red', label='Training Set')\n",
    "        plt.plot(test_accuracy, color='blue', label='Test Set')\n",
    "        plt.xlabel('Epoch')\n",
    "        plt.ylabel('Accuracy')\n",
    "        plt.legend(loc='upper right')\n",
    "        plt.savefig('Accuracy-{}'.format(transformation))\n",
    "        plt.axis([0, epochs, 0, 100])\n",
    "        plt.show()\n",
    "\n",
    "    return train_accuracy, valid_accuracy, test_accuracy\n",
    "\n",
    "\n",
    "def find_best_hyperparam(epochs, transformation, batch_size):\n",
    "    train_dataloader, valid_dataloader, test_dataloader, input_size, output_size = load_data(transformation, batch_size)\n",
    "\n",
    "    #  Hyperparam Search\n",
    "    best_hyperparam = 0.00001\n",
    "    best_acc = 0\n",
    "    for hyperparam in [0.00001, 0.00005, 0.0001, 0.0005, 0.001, 0.005, 0.01, 0.05, 0.1, 0.5]:\n",
    "        model = Net(input_size=input_size, output_size=output_size)\n",
    "        model.cuda()\n",
    "        _, valid_accuracy, _ = \\\n",
    "        train_model(model=model, lr=hyperparam, epochs=epochs, compute_test_error=False,\n",
    "                    train_dataloader=train_dataloader, valid_dataloader=valid_dataloader,\n",
    "                    test_dataloader=test_dataloader, input_size=input_size,\n",
    "                    transformation=transformation, momentum=0.9)\n",
    "        valid_acc = valid_accuracy[-1]\n",
    "        print('learning rate {} has accuracy: {:.6f}'.format(hyperparam, valid_acc))\n",
    "        if valid_acc > best_acc:\n",
    "            best_acc = valid_acc\n",
    "            best_hyperparam = hyperparam\n",
    "            print('New best hyperparam: {:.6f}'.format(best_hyperparam))\n",
    "\n",
    "    model = Net(input_size=input_size, output_size=output_size)\n",
    "    model.cuda()\n",
    "    train_accuracy, valid_accuracy, test_accuracy = \\\n",
    "        train_model(model=model, lr=best_hyperparam, epochs=epochs, compute_test_error=True,\n",
    "                    train_dataloader=train_dataloader, valid_dataloader=valid_dataloader,\n",
    "                    test_dataloader=test_dataloader,\n",
    "                    input_size=input_size, transformation=transformation, momentum=0.9)\n",
    "    return best_hyperparam, train_accuracy, valid_accuracy, test_accuracy\n",
    "\n",
    "# Q 2.1\n",
    "final_outcome = list()\n",
    "for trans in ['stdize', 'tfidf', 'no transformation']:\n",
    "\n",
    "    best_hyperparam, train_accuracy, valid_accuracy, test_accuracy = \\\n",
    "        find_best_hyperparam(epochs=20, transformation=trans, batch_size=64)\n",
    "\n",
    "    final_outcome.append([trans, best_hyperparam, train_accuracy[-1], test_accuracy[-1]])\n",
    "\n",
    "    print('\\n####################################################\\n')\n",
    "    print('Best hyperparameter for transformation {}: {}\\n'.format(trans, best_hyperparam))\n",
    "    print('#####################################################\\n')\n",
    "\n",
    "print(final_outcome)\n",
    "\n",
    "train_dataloader, valid_dataloader, test_dataloader, input_size, output_size = load_data('tfidf', batch_size=1)\n",
    "model = Net(input_size=input_size, output_size=output_size)\n",
    "model.cuda()\n",
    "updates_1 = train_model(model=model, lr=0.1, epochs=1, compute_test_error=False,\n",
    "            train_dataloader=train_dataloader, valid_dataloader=valid_dataloader,\n",
    "            test_dataloader=test_dataloader,\n",
    "            input_size=input_size, transformation='tfidf', momentum=0, get_updates=True)\n",
    "del train_dataloader, valid_dataloader, test_dataloader, input_size, output_size\n",
    "\n",
    "train_dataloader, valid_dataloader, test_dataloader, input_size, output_size = load_data('tfidf', batch_size=100)\n",
    "updates_2 = train_model(model=model, lr=0.1, epochs=100, compute_test_error=False,\n",
    "            train_dataloader=train_dataloader, valid_dataloader=valid_dataloader,\n",
    "            test_dataloader=test_dataloader,\n",
    "            input_size=input_size, transformation='tfidf', momentum=0, get_updates=True)\n",
    "\n",
    "plt.figure()\n",
    "plt.title('Per Update Loss with Different Minibatch Sizes')\n",
    "plt.plot(updates_1, color='red', label='Minibatch size 1')\n",
    "plt.plot(updates_2, color='blue', label='Minibatch size 100')\n",
    "plt.xlabel('Update')\n",
    "plt.ylabel('Loss')\n",
    "plt.legend(loc='upper right')\n",
    "plt.savefig('loss-minibatch')\n",
    "plt.axis([0, 5000, 0, 5])\n",
    "plt.show()"
   ]
  },
  {
   "cell_type": "markdown",
   "metadata": {
    "colab_type": "text",
    "id": "uiTt62Q11yih"
   },
   "source": [
    "# Answers\n",
    "\n",
    "## Q2.1\n",
    "\n",
    "| Data Set          | Best Learning Rate | Training Accuracy | Test Accuracy |\n",
    "|-------------------|:------------------:|:-----------------:|:-------------:|\n",
    "| stdize            | 0.01               | 99.902            | 86.707        |\n",
    "| tfidf             | 0.05               | 99.770            | 90.103        |\n",
    "| no transformation | 0.005              | 98.399            | 82.409        |\n",
    "\n",
    "1.) Without transformations, and with large learning rates, the model would overfit before the 20th epoch, so learning rate had to be small. With standardization, the training was unstable for learning rates >0.01, and otherwise the model performed comparably to the model trained on the original data. With the tfidf, the model performed well across learning rates >0.005 (otherwise, the learning would take much longer than 20 epochs). Therefore, they all worked well with a learning rate of 0.01, but each performed optimally at different rates.\n",
    "\n",
    "2.) If $\\epsilon = 0$ for the Standardization preprocessing, we may have had numerical issues coming from very small standard deviations. This could occur with very common words or very rare words. One way to deal with the problem is to exclude the most common and rare words from the model.\n",
    "\n",
    "3.) tf-idf has the advantage of adding weight to words which do no appear often and removing weight from common words. Words which only appear in a few document often have high predictive power, and words that are very common often do not.\n",
    "\n",
    "## Q2.2\n",
    "\n",
    "1.) The variance is higher with minibatches of size 1, since larger minibatches is essentially just averaging over the gradients of the minibatch (since variance of average is $\\frac{1}{n}$ the variance of the single example by the CLT)\n",
    "\n",
    "2.) If we had to have a minibatch of size 1, we could decrease the learning rate so that the optimization is less sensitive to any perturbations from the higher variance."
   ]
  }
 ],
 "metadata": {
  "accelerator": "GPU",
  "anaconda-cloud": {},
  "colab": {
   "collapsed_sections": [],
   "default_view": {},
   "name": "IFT 6135 Assignment #1: Programming MLPs",
   "provenance": [],
   "toc_visible": true,
   "version": "0.3.2",
   "views": {}
  },
  "kernelspec": {
   "display_name": "Python [default]",
   "language": "python",
   "name": "python3"
  },
  "language_info": {
   "codemirror_mode": {
    "name": "ipython",
    "version": 3
   },
   "file_extension": ".py",
   "mimetype": "text/x-python",
   "name": "python",
   "nbconvert_exporter": "python",
   "pygments_lexer": "ipython3",
   "version": "3.5.2"
  }
 },
 "nbformat": 4,
 "nbformat_minor": 0
}
